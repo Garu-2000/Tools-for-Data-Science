{
  "nbformat": 4,
  "nbformat_minor": 0,
  "metadata": {
    "colab": {
      "provenance": []
    },
    "kernelspec": {
      "name": "python3",
      "display_name": "Python 3"
    },
    "language_info": {
      "name": "python"
    }
  },
  "cells": [
    {
      "cell_type": "markdown",
      "source": [
        "# Data Science Tools and Ecosystem"
      ],
      "metadata": {
        "id": "7txg2i9CcX9z"
      }
    },
    {
      "cell_type": "markdown",
      "source": [
        "In this notebook, Data Science Tools and Ecosystem are summarized."
      ],
      "metadata": {
        "id": "TRLYPsAxdF_a"
      }
    },
    {
      "cell_type": "markdown",
      "source": [
        "**Objectives:**\n",
        "\n",
        "[Some of the popular languages that Data Scientists](https://colab.research.google.com/drive/1-Gdu_bdhuY4349Y5X-CCSc9Yn_x2BNPy#scrollTo=CR-ijz2CdiIw&line=1&uniqifier=1)\n",
        "\n",
        "[Some of the commonly used libraries used by Data Scientists](https://colab.research.google.com/drive/1-Gdu_bdhuY4349Y5X-CCSc9Yn_x2BNPy#scrollTo=AwGxZPuAeata&line=1&uniqifier=1)\n",
        "\n",
        "[Simple arithmetic expression to mutiply then add integers](https://colab.research.google.com/drive/1-Gdu_bdhuY4349Y5X-CCSc9Yn_x2BNPy#scrollTo=YWQynjB3T-gl&line=2&uniqifier=1)"
      ],
      "metadata": {
        "id": "lsiwC060V_wa"
      }
    },
    {
      "cell_type": "markdown",
      "source": [
        "Some of the popular languages that Data Scientists use are:\n",
        "1.   Python\n",
        "2.   R\n",
        "3.   SQL\n",
        "\n"
      ],
      "metadata": {
        "id": "CR-ijz2CdiIw"
      }
    },
    {
      "cell_type": "markdown",
      "source": [
        "Some of the commonly used libraries used by Data Scientists include:\n",
        "*   Pandas\n",
        "*   NumPy\n",
        "*   SciPy\n",
        "*   TensorFlow\n",
        "*   Matplotlib\n",
        "*   PyTorch\n"
      ],
      "metadata": {
        "id": "AwGxZPuAeata"
      }
    },
    {
      "cell_type": "markdown",
      "source": [
        "| Data Science Tools |\n",
        "----------------------\n",
        "| Jupyter Lab        |\n",
        "| RStudio            |\n",
        "| Apache Zeppelin    |\n"
      ],
      "metadata": {
        "id": "vTi8FUoefyVu"
      }
    },
    {
      "cell_type": "markdown",
      "source": [
        "### Below are a few examples of evaluating arithmetic expressions in Python\n"
      ],
      "metadata": {
        "id": "noEJVox6S2is"
      }
    },
    {
      "cell_type": "code",
      "source": [
        "# This a simple arithmetic expression to mutiply then add integers\n",
        "(3*4)+5"
      ],
      "metadata": {
        "colab": {
          "base_uri": "https://localhost:8080/"
        },
        "id": "YWQynjB3T-gl",
        "outputId": "c3177abc-c419-41af-b1f2-127aa3341e3f"
      },
      "execution_count": 1,
      "outputs": [
        {
          "output_type": "execute_result",
          "data": {
            "text/plain": [
              "17"
            ]
          },
          "metadata": {},
          "execution_count": 1
        }
      ]
    },
    {
      "cell_type": "code",
      "source": [
        "# This will convert 200 minutes to hours by diving by 60\n",
        "minutes = 200\n",
        "hours = minutes / 60\n",
        "print(\"Hours:\", hours)"
      ],
      "metadata": {
        "colab": {
          "base_uri": "https://localhost:8080/"
        },
        "id": "sxDd7ZZuUi8k",
        "outputId": "5e4ec431-7301-48e1-d06c-a0b625f518ad"
      },
      "execution_count": 2,
      "outputs": [
        {
          "output_type": "stream",
          "name": "stdout",
          "text": [
            "Hours: 3.3333333333333335\n"
          ]
        }
      ]
    },
    {
      "cell_type": "markdown",
      "source": [
        "## Author\n",
        "Ivan Afanaskin"
      ],
      "metadata": {
        "id": "K7vDtYLMYhC8"
      }
    }
  ]
}